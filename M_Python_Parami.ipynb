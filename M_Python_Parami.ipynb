{
  "nbformat": 4,
  "nbformat_minor": 0,
  "metadata": {
    "colab": {
      "provenance": [],
      "collapsed_sections": []
    },
    "kernelspec": {
      "name": "python3",
      "display_name": "Python 3"
    },
    "language_info": {
      "name": "python"
    }
  },
  "cells": [
    {
      "cell_type": "markdown",
      "source": [
        "1) Write a Python program to create a dictionary that count the frequency of words in the string given in Q1.txt. Find the most frequent occured word."
      ],
      "metadata": {
        "id": "bBSbIZTtW7q4"
      }
    },
    {
      "cell_type": "code",
      "execution_count": 10,
      "metadata": {
        "id": "l6y53V9ZWzox"
      },
      "outputs": [],
      "source": [
        "#step 1: read content from Q1.txt into list\n",
        "with open('Q1.txt', 'r') as file1:\n",
        "    wordlist = file1.read()\n",
        "\n",
        "#Step 2: \n",
        "\n",
        "\n",
        "#Step 3: \n",
        "\n",
        "#Step 4: "
      ]
    },
    {
      "cell_type": "markdown",
      "source": [
        "2) Write a Python program to read the name from Q2.txt and create email using domain 'parami.edu.mm' and save the results as dictionary : \n",
        "{'name': 'name@parami.edu.mm'}.\n",
        "Please take note that your email should not include space or any special characters and all charcters should be in lowercase. "
      ],
      "metadata": {
        "id": "aQP7q021Xr9W"
      }
    },
    {
      "cell_type": "code",
      "source": [
        "#step 1: read Q2. txt into the list\n",
        "with open ('Q2.txt', 'r') as names:\n",
        "    header = names.readline()\n",
        "    namelist = names.readlines()\n",
        "#step 2: \n",
        "\n"
      ],
      "metadata": {
        "id": "2B2TGvQCXuR3"
      },
      "execution_count": 11,
      "outputs": []
    }
  ]
}