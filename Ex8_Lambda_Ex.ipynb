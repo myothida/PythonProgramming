{
 "cells": [
  {
   "cell_type": "markdown",
   "metadata": {},
   "source": [
    "Q1). Write a lambda function that takes an integer 'year' and returns 'age'."
   ]
  },
  {
   "cell_type": "code",
   "execution_count": 12,
   "metadata": {},
   "outputs": [
    {
     "name": "stdout",
     "output_type": "stream",
     "text": [
      "[[ 58  90]\n",
      " [242 154]\n",
      " [187 225]\n",
      " [110 189]\n",
      " [ 92  23]]\n",
      "[ 90 242 225 189  92]\n"
     ]
    }
   ],
   "source": [
    "import numpy as np\n",
    "\n",
    "data = np.random.randint(0,255, (5,2))\n",
    "print(data)\n",
    "\n",
    "result = data.mean(axis = 0)\n",
    "\n",
    "stu = data.max(axis = 1)\n",
    "\n",
    "print(stu)\n"
   ]
  },
  {
   "cell_type": "code",
   "execution_count": 4,
   "metadata": {},
   "outputs": [
    {
     "data": {
      "text/plain": [
       "'a'"
      ]
     },
     "execution_count": 4,
     "metadata": {},
     "output_type": "execute_result"
    }
   ],
   "source": [
    "age = 32\n",
    "height = 1.75\n",
    "name_var = (\"Name\", age, height, \"Myo\", 32, 5)\n",
    "\n",
    "name_var[0][1]"
   ]
  },
  {
   "cell_type": "code",
   "execution_count": 20,
   "metadata": {},
   "outputs": [
    {
     "data": {
      "text/html": [
       "<div>\n",
       "<style scoped>\n",
       "    .dataframe tbody tr th:only-of-type {\n",
       "        vertical-align: middle;\n",
       "    }\n",
       "\n",
       "    .dataframe tbody tr th {\n",
       "        vertical-align: top;\n",
       "    }\n",
       "\n",
       "    .dataframe thead th {\n",
       "        text-align: right;\n",
       "    }\n",
       "</style>\n",
       "<table border=\"1\" class=\"dataframe\">\n",
       "  <thead>\n",
       "    <tr style=\"text-align: right;\">\n",
       "      <th></th>\n",
       "      <th>Emp ID</th>\n",
       "      <th>E Mail</th>\n",
       "    </tr>\n",
       "  </thead>\n",
       "  <tbody>\n",
       "    <tr>\n",
       "      <th>0</th>\n",
       "      <td>526540</td>\n",
       "      <td>angelique.goodwin@gmail.com</td>\n",
       "    </tr>\n",
       "    <tr>\n",
       "      <th>1</th>\n",
       "      <td>859327</td>\n",
       "      <td>jeni.shaffer@gmail.com</td>\n",
       "    </tr>\n",
       "    <tr>\n",
       "      <th>2</th>\n",
       "      <td>887387</td>\n",
       "      <td>donald.farris@bellsouth.net</td>\n",
       "    </tr>\n",
       "    <tr>\n",
       "      <th>3</th>\n",
       "      <td>779497</td>\n",
       "      <td>steven.rendon@gmail.com</td>\n",
       "    </tr>\n",
       "    <tr>\n",
       "      <th>4</th>\n",
       "      <td>896517</td>\n",
       "      <td>jenell.almanza@yahoo.com</td>\n",
       "    </tr>\n",
       "    <tr>\n",
       "      <th>...</th>\n",
       "      <td>...</td>\n",
       "      <td>...</td>\n",
       "    </tr>\n",
       "    <tr>\n",
       "      <th>4997</th>\n",
       "      <td>488800</td>\n",
       "      <td>roberto.harter@exxonmobil.com</td>\n",
       "    </tr>\n",
       "    <tr>\n",
       "      <th>4998</th>\n",
       "      <td>428330</td>\n",
       "      <td>brittni.cyr@earthlink.net</td>\n",
       "    </tr>\n",
       "    <tr>\n",
       "      <th>4999</th>\n",
       "      <td>313027</td>\n",
       "      <td>gerald.beaudry@shaw.ca</td>\n",
       "    </tr>\n",
       "    <tr>\n",
       "      <th>5000</th>\n",
       "      <td>826852</td>\n",
       "      <td>emilee.emery@gmail.com</td>\n",
       "    </tr>\n",
       "    <tr>\n",
       "      <th>5001</th>\n",
       "      <td>948300</td>\n",
       "      <td>larhonda.dozier@aol.com</td>\n",
       "    </tr>\n",
       "  </tbody>\n",
       "</table>\n",
       "<p>5002 rows × 2 columns</p>\n",
       "</div>"
      ],
      "text/plain": [
       "      Emp ID                         E Mail\n",
       "0     526540    angelique.goodwin@gmail.com\n",
       "1     859327         jeni.shaffer@gmail.com\n",
       "2     887387    donald.farris@bellsouth.net\n",
       "3     779497        steven.rendon@gmail.com\n",
       "4     896517       jenell.almanza@yahoo.com\n",
       "...      ...                            ...\n",
       "4997  488800  roberto.harter@exxonmobil.com\n",
       "4998  428330      brittni.cyr@earthlink.net\n",
       "4999  313027         gerald.beaudry@shaw.ca\n",
       "5000  826852         emilee.emery@gmail.com\n",
       "5001  948300        larhonda.dozier@aol.com\n",
       "\n",
       "[5002 rows x 2 columns]"
      ]
     },
     "execution_count": 20,
     "metadata": {},
     "output_type": "execute_result"
    }
   ],
   "source": [
    "import pandas as pd\n",
    "\n",
    "df = pd.read_csv(\"./data/HR_5000 Records.csv\")\n",
    "df.head(10)\n",
    "\n",
    "data_copy =df[[\"Emp ID\", \"E Mail\"]].copy()\n",
    "\n",
    "data_copy\n",
    "\n"
   ]
  },
  {
   "cell_type": "code",
   "execution_count": 5,
   "metadata": {},
   "outputs": [
    {
     "data": {
      "text/plain": [
       "24"
      ]
     },
     "execution_count": 5,
     "metadata": {},
     "output_type": "execute_result"
    }
   ],
   "source": [
    "from datetime import datetime\n",
    "\n",
    "current_year = datetime.now().year\n",
    "calculate_age = lambda year: current_year - year\n",
    "calculate_age(2000)"
   ]
  },
  {
   "cell_type": "markdown",
   "metadata": {},
   "source": [
    "Q2) Write a lambda function that takes a float \"cost\" and returns a float \"price\" by adding 10% to the cost."
   ]
  },
  {
   "cell_type": "code",
   "execution_count": 6,
   "metadata": {},
   "outputs": [
    {
     "data": {
      "text/plain": [
       "61.6"
      ]
     },
     "execution_count": 6,
     "metadata": {},
     "output_type": "execute_result"
    }
   ],
   "source": [
    "calculate_pirce = lambda cost: cost + cost*0.10\n",
    "\n",
    "calculate_pirce(56)"
   ]
  },
  {
   "cell_type": "markdown",
   "metadata": {},
   "source": [
    "Q3) For the given name list : names = ['Richard', 'Karam', 'Karpo', 'Sonam', 'Ugyen']\n",
    "\n",
    "Write a python program that converts each name into email address. The domain is given as gmail."
   ]
  },
  {
   "cell_type": "code",
   "execution_count": 7,
   "metadata": {},
   "outputs": [
    {
     "data": {
      "text/plain": [
       "['richard@gmail.com',\n",
       " 'karam@gmail.com',\n",
       " 'karpo@gmail.com',\n",
       " 'sonam@gmail.com',\n",
       " 'ugyen@gmail.com']"
      ]
     },
     "execution_count": 7,
     "metadata": {},
     "output_type": "execute_result"
    }
   ],
   "source": [
    "names = ['Richard', 'Karam', 'Karpo', 'Sonam', 'Ugyen']\n",
    "create_email = lambda name: name.lower()+'@gmail.com'\n",
    "emails = [*map(create_email, names)]\n",
    "emails\n"
   ]
  },
  {
   "cell_type": "markdown",
   "metadata": {},
   "source": [
    "Q4) Write a lambda function that takes two strings 'name' , 'domain' and returns an email address (string)."
   ]
  },
  {
   "cell_type": "code",
   "execution_count": 8,
   "metadata": {},
   "outputs": [
    {
     "data": {
      "text/plain": [
       "'myo@drmyothida.com'"
      ]
     },
     "execution_count": 8,
     "metadata": {},
     "output_type": "execute_result"
    }
   ],
   "source": [
    "create_custom_email = lambda name, domain: name.lower()+'@'+domain\n",
    "create_custom_email('myo', 'drmyothida.com')"
   ]
  },
  {
   "cell_type": "markdown",
   "metadata": {},
   "source": [
    "Q5) old_list = [2, 4, 6, 7, 9]\n",
    "\n",
    "write a for loop to square each element of the given old_list. "
   ]
  },
  {
   "cell_type": "code",
   "execution_count": 9,
   "metadata": {},
   "outputs": [
    {
     "name": "stdout",
     "output_type": "stream",
     "text": [
      "[4, 16, 36, 49, 81] [4, 16, 36, 49, 81]\n"
     ]
    }
   ],
   "source": [
    "# list comprehension\n",
    "old_list = [2, 4, 6, 7, 9]\n",
    "new_list1 = [item**2 for item in old_list] \n",
    "\n",
    "#2nd method\n",
    "new_list2 = []\n",
    "for item in old_list:\n",
    "    new_list2.append(item**2)\n",
    "\n",
    "print(new_list1, new_list2)"
   ]
  }
 ],
 "metadata": {
  "kernelspec": {
   "display_name": ".venv",
   "language": "python",
   "name": "python3"
  },
  "language_info": {
   "codemirror_mode": {
    "name": "ipython",
    "version": 3
   },
   "file_extension": ".py",
   "mimetype": "text/x-python",
   "name": "python",
   "nbconvert_exporter": "python",
   "pygments_lexer": "ipython3",
   "version": "3.14.0"
  }
 },
 "nbformat": 4,
 "nbformat_minor": 2
}
